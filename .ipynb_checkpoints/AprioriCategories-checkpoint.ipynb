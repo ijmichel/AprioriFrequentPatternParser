{
 "cells": [
  {
   "cell_type": "code",
   "execution_count": 5,
   "metadata": {},
   "outputs": [
    {
     "ename": "IndentationError",
     "evalue": "unindent does not match any outer indentation level (<ipython-input-5-eb09dc244766>, line 27)",
     "output_type": "error",
     "traceback": [
      "\u001b[0;36m  File \u001b[0;32m\"<ipython-input-5-eb09dc244766>\"\u001b[0;36m, line \u001b[0;32m27\u001b[0m\n\u001b[0;31m    print \"data --> \", data\u001b[0m\n\u001b[0m                           ^\u001b[0m\n\u001b[0;31mIndentationError\u001b[0m\u001b[0;31m:\u001b[0m unindent does not match any outer indentation level\n"
     ]
    }
   ],
   "source": [
    "import sys\n",
    "import random \n",
    "import threading\n",
    "import random\n",
    "import time\n",
    "import re\n",
    "\n",
    "from collections import OrderedDict\n",
    "\n",
    "# Step 1: Parse each line as a Transation with N elements which are split on ;\n",
    "# Step 2: While parsing convert a unique string to a number for easy sorting \n",
    "# Step 3: \n",
    "\n",
    "\n",
    "def apriori(inputPath,relativeMinSupport) :\n",
    "    \n",
    "    transactions = [] # list of all transactions for use later\n",
    "    lookup = {}\n",
    "    \n",
    "    with open(inputPath) as f:\n",
    "         for line in f:  \n",
    "#             print \"line --> \", line\n",
    "#             line = line.strip(\"\\n\\r\")\n",
    "#             print \"line --> \", line\n",
    "            data = re.split(';', line)\n",
    "            transactions.append(data)\n",
    "#           print \"data --> \", data\n",
    "            for i,category in enumerate(data): \n",
    "                print category\n",
    "                if category in lookup:\n",
    "                    count = lookup[category]\n",
    "                    count = count + 1\n",
    "                    lookup[category] = count\n",
    "                else:\n",
    "                    lookup[category] = 1 \n",
    "            \n",
    "#       Remove k=1 without min support    \n",
    "        for category in lookup:\n",
    "            if lookup[category] <= 771:\n",
    "                lookup.pop(category, None)\n",
    "            \n"
   ]
  },
  {
   "cell_type": "code",
   "execution_count": 4,
   "metadata": {},
   "outputs": [
    {
     "name": "stderr",
     "output_type": "stream",
     "text": [
      "IOPub data rate exceeded.\n",
      "The notebook server will temporarily stop sending output\n",
      "to the client in order to avoid crashing it.\n",
      "To change this limit, set the config variable\n",
      "`--NotebookApp.iopub_data_rate_limit`.\n",
      "\n",
      "Current values:\n",
      "NotebookApp.iopub_data_rate_limit=1000000.0 (bytes/sec)\n",
      "NotebookApp.rate_limit_window=3.0 (secs)\n",
      "\n"
     ]
    },
    {
     "ename": "KeyboardInterrupt",
     "evalue": "",
     "output_type": "error",
     "traceback": [
      "\u001b[0;31m---------------------------------------------------------------------------\u001b[0m",
      "\u001b[0;31mKeyboardInterrupt\u001b[0m                         Traceback (most recent call last)",
      "\u001b[0;32m<ipython-input-4-83818a07f260>\u001b[0m in \u001b[0;36m<module>\u001b[0;34m()\u001b[0m\n\u001b[0;32m----> 1\u001b[0;31m \u001b[0mapriori\u001b[0m\u001b[0;34m(\u001b[0m\u001b[0;34m\"categories.txt\"\u001b[0m\u001b[0;34m,\u001b[0m\u001b[0;36m1\u001b[0m\u001b[0;34m)\u001b[0m\u001b[0;34m\u001b[0m\u001b[0m\n\u001b[0m",
      "\u001b[0;32m<ipython-input-3-5debf3237f6c>\u001b[0m in \u001b[0;36mapriori\u001b[0;34m(inputPath, relativeMinSupport)\u001b[0m\n\u001b[1;32m     34\u001b[0m \u001b[0;31m#                 else:\u001b[0m\u001b[0;34m\u001b[0m\u001b[0;34m\u001b[0m\u001b[0m\n\u001b[1;32m     35\u001b[0m \u001b[0;31m#                     lookup[category] = 1\u001b[0m\u001b[0;34m\u001b[0m\u001b[0;34m\u001b[0m\u001b[0m\n\u001b[0;32m---> 36\u001b[0;31m             \u001b[0;32mprint\u001b[0m \u001b[0mtransactions\u001b[0m\u001b[0;34m\u001b[0m\u001b[0m\n\u001b[0m",
      "\u001b[0;31mKeyboardInterrupt\u001b[0m: "
     ]
    }
   ],
   "source": [
    "apriori(\"categories.txt\",1)"
   ]
  },
  {
   "cell_type": "code",
   "execution_count": null,
   "metadata": {},
   "outputs": [],
   "source": []
  }
 ],
 "metadata": {
  "kernelspec": {
   "display_name": "Python 2",
   "language": "python",
   "name": "python2"
  },
  "language_info": {
   "codemirror_mode": {
    "name": "ipython",
    "version": 2
   },
   "file_extension": ".py",
   "mimetype": "text/x-python",
   "name": "python",
   "nbconvert_exporter": "python",
   "pygments_lexer": "ipython2",
   "version": "2.7.15"
  }
 },
 "nbformat": 4,
 "nbformat_minor": 2
}

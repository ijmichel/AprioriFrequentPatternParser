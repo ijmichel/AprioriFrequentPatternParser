{
 "cells": [
  {
   "cell_type": "code",
   "execution_count": 85,
   "metadata": {},
   "outputs": [],
   "source": [
    "import sys\n",
    "import random \n",
    "import threading\n",
    "import random\n",
    "import time\n",
    "import re\n",
    "import os\n",
    "\n",
    "from collections import OrderedDict\n",
    "\n",
    "# Step 1: Parse each line as a Transation with N elements which are split on ;\n",
    "# Step 2: While parsing convert a unique string to a number for easy sorting \n",
    "# Step 3: \n",
    "\n",
    "\n",
    "def apriori(inputPath,relativeMinSupport) :\n",
    "    \n",
    "    transactions = [] # list of all transactions for use later\n",
    "    lookup = {}\n",
    "    \n",
    "    with open(inputPath) as f:\n",
    "         for line in f:  \n",
    "#             print \"line --> \", line\n",
    "#             line = line.strip(\"\\n\\r\")\n",
    "#             print \"line --> \", line\n",
    "            data = re.split(';', line)\n",
    "            transactions.append(data)\n",
    "#           print \"data --> \", data\n",
    "            for i,category in enumerate(data): \n",
    "#                 print category\n",
    "                if category in lookup:\n",
    "                    count = lookup[category]\n",
    "                    count = count + 1\n",
    "                    lookup[category] = count\n",
    "                else:\n",
    "                    lookup[category] = 1 \n",
    "            \n",
    "#       Remove k=1 without min support   \n",
    "    for category in lookup.keys():\n",
    "        support = lookup[category]\n",
    "        if support <= 771:\n",
    "            lookup.pop(category, None)\n",
    "    \n",
    "    if os.path.exists(\"patterns.txt\"):\n",
    "        os.remove(\"patterns.txt\")\n",
    "   \n",
    "    f = open(\"patterns.txt\", \"a\")\n",
    "    \n",
    "    for category in lookup:\n",
    "        support = lookup[category]\n",
    "        category = category.replace(\"\\n\",\"\")\n",
    "        \n",
    "        toWrite = str(support) + \":\" + category\n",
    "\n",
    "        f.write(toWrite) \n",
    "        f.write(\"\\n\")\n",
    "\n",
    "\n",
    "    f.close()\n",
    "            \n"
   ]
  },
  {
   "cell_type": "code",
   "execution_count": 86,
   "metadata": {},
   "outputs": [],
   "source": [
    "apriori(\"categories.txt\",1)"
   ]
  },
  {
   "cell_type": "code",
   "execution_count": null,
   "metadata": {},
   "outputs": [],
   "source": []
  }
 ],
 "metadata": {
  "kernelspec": {
   "display_name": "Python 2",
   "language": "python",
   "name": "python2"
  },
  "language_info": {
   "codemirror_mode": {
    "name": "ipython",
    "version": 2
   },
   "file_extension": ".py",
   "mimetype": "text/x-python",
   "name": "python",
   "nbconvert_exporter": "python",
   "pygments_lexer": "ipython2",
   "version": "2.7.15"
  }
 },
 "nbformat": 4,
 "nbformat_minor": 2
}
